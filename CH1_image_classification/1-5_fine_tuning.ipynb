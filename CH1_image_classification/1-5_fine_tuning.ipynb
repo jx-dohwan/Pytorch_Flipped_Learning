{
 "cells": [
  {
   "cell_type": "markdown",
   "metadata": {},
   "source": [
    "## 1-5 fine_tuning 으로 정확도를 향상시키는 방법\n",
    "\n",
    "- 학습된 VGG 모델을 사용해서 fine_tuning으로 개미와 벌을 이미지 분류하는 모델을 학습시키기"
   ]
  },
  {
   "cell_type": "markdown",
   "metadata": {},
   "source": [
    "### 사전준비"
   ]
  },
  {
   "cell_type": "code",
   "execution_count": 35,
   "metadata": {},
   "outputs": [],
   "source": [
    "# 패키지 Import \n",
    "import numpy as np\n",
    "import random\n",
    "import torch\n",
    "import torch.nn as nn\n",
    "import torch.optim as optim\n",
    "\n",
    "from torchvision import models\n",
    "from tqdm import tqdm"
   ]
  },
  {
   "cell_type": "code",
   "execution_count": 36,
   "metadata": {},
   "outputs": [],
   "source": [
    "# 난수 시드 설정\n",
    "torch.manual_seed(1234)\n",
    "np.random.seed(1234)\n",
    "random.seed(1234)"
   ]
  },
  {
   "cell_type": "markdown",
   "metadata": {},
   "source": [
    "## Dataset과 DataLoader 작성"
   ]
  },
  {
   "cell_type": "code",
   "execution_count": 37,
   "metadata": {},
   "outputs": [
    {
     "name": "stdout",
     "output_type": "stream",
     "text": [
      "./data/hymenoptera_data/train/**/*.jpg\n",
      "./data/hymenoptera_data/val/**/*.jpg\n"
     ]
    }
   ],
   "source": [
    "#import sys\n",
    "# sys.path.append('C:\\pythonStudy\\Pytorch_Flipped_Learning\\CH1_image_classification')\n",
    "from utils.dataloader_image_classification import ImageTransform, make_datapath_list, HymenopteraDataset\n",
    "\n",
    "# 거미와 벌의 이미지 파일 경로 리스트 작성\n",
    "train_list = make_datapath_list(phase='train')\n",
    "val_list = make_datapath_list(phase='val')\n",
    "\n",
    "size = 2242\n",
    "mean = (0.485, 0.456, 0.406)\n",
    "std = (0.229, 0.224, 0.225)\n",
    "\n",
    "train_dataset = HymenopteraDataset(\n",
    "    file_list = train_list, transform=ImageTransform(size, mean, std), phase='train'\n",
    "    )\n",
    "\n",
    "val_dataset = HymenopteraDataset(\n",
    "    file_list = val_list, transform = ImageTransform(size, mean, std), phase='val'\n",
    ")\n",
    "\n",
    "batch_size = 4\n",
    "\n",
    "train_dataloader = torch.utils.data.DataLoader(\n",
    "    train_dataset, batch_size = batch_size, shuffle=True\n",
    ")\n",
    "\n",
    "val_dataloader = torch.utils.data.DataLoader(\n",
    "    val_dataset, batch_size=batch_size, shuffle=False\n",
    ")\n",
    "\n",
    "dataloaders_dict = {'train': train_dataloader , 'val':val_dataloader}"
   ]
  },
  {
   "cell_type": "markdown",
   "metadata": {},
   "source": [
    "## 네트워크 모델 작성하기"
   ]
  },
  {
   "cell_type": "code",
   "execution_count": 38,
   "metadata": {},
   "outputs": [
    {
     "name": "stdout",
     "output_type": "stream",
     "text": [
      "네트워크 설정 완료: 학습된 가중치를 로드하고 훈련 모드로 설정했습니다\n"
     ]
    }
   ],
   "source": [
    "# 학습된 VGG-16 모델 로드하기\n",
    "use_pretrained = True\n",
    "net = models.vgg16(pretrained=use_pretrained)\n",
    "\n",
    "#vgg16 의 마지막 출력층 유닛을 개마, 벌 총 2개로 바꿔주기\n",
    "net.classifier[6] = nn.Linear(in_features=4096, out_features=2)\n",
    "\n",
    "# trian모드로 설정\n",
    "net.train()\n",
    "\n",
    "print('네트워크 설정 완료: 학습된 가중치를 로드하고 훈련 모드로 설정했습니다')"
   ]
  },
  {
   "cell_type": "markdown",
   "metadata": {},
   "source": [
    "## 손실함수 정의"
   ]
  },
  {
   "cell_type": "code",
   "execution_count": 39,
   "metadata": {},
   "outputs": [],
   "source": [
    "# 손실 함수의 설정\n",
    "criterion = nn.CrossEntropyLoss()"
   ]
  },
  {
   "cell_type": "markdown",
   "metadata": {},
   "source": [
    "## 최적화 방법 설정"
   ]
  },
  {
   "cell_type": "code",
   "execution_count": 40,
   "metadata": {},
   "outputs": [
    {
     "name": "stdout",
     "output_type": "stream",
     "text": [
      "params_to_update_1에 저장:  features.0.weight\n",
      "params_to_update_1에 저장:  features.0.bias\n",
      "params_to_update_1에 저장:  features.2.weight\n",
      "params_to_update_1에 저장:  features.2.bias\n",
      "params_to_update_1에 저장:  features.5.weight\n",
      "params_to_update_1에 저장:  features.5.bias\n",
      "params_to_update_1에 저장:  features.7.weight\n",
      "params_to_update_1에 저장:  features.7.bias\n",
      "params_to_update_1에 저장:  features.10.weight\n",
      "params_to_update_1에 저장:  features.10.bias\n",
      "params_to_update_1에 저장:  features.12.weight\n",
      "params_to_update_1에 저장:  features.12.bias\n",
      "params_to_update_1에 저장:  features.14.weight\n",
      "params_to_update_1에 저장:  features.14.bias\n",
      "params_to_update_1에 저장:  features.17.weight\n",
      "params_to_update_1에 저장:  features.17.bias\n",
      "params_to_update_1에 저장:  features.19.weight\n",
      "params_to_update_1에 저장:  features.19.bias\n",
      "params_to_update_1에 저장:  features.21.weight\n",
      "params_to_update_1에 저장:  features.21.bias\n",
      "params_to_update_1에 저장:  features.24.weight\n",
      "params_to_update_1에 저장:  features.24.bias\n",
      "params_to_update_1에 저장:  features.26.weight\n",
      "params_to_update_1에 저장:  features.26.bias\n",
      "params_to_update_1에 저장:  features.28.weight\n",
      "params_to_update_1에 저장:  features.28.bias\n",
      "params_to_update_2에 저장:  classifier.0.weight\n",
      "params_to_update_2에 저장:  classifier.0.bias\n",
      "params_to_update_2에 저장:  classifier.3.weight\n",
      "params_to_update_2에 저장:  classifier.3.bias\n",
      "params_to_update_3에 저장:  classifier.6.weight\n",
      "params_to_update_3에 저장:  classifier.6.bias\n"
     ]
    }
   ],
   "source": [
    "## 모든 층의 파라미터를 학습할 수 있도록 optimizer 를 설정\n",
    "\n",
    "## fine tuning 으로 학습할 파라미터를 변수에 저장하기\n",
    "params_to_update_1 = []\n",
    "params_to_update_2 = []\n",
    "params_to_update_3 = []\n",
    "\n",
    "## 학습시킬 층의 파라미터명을 지정\n",
    "update_param_names_1 = [\"features\"]\n",
    "update_param_names_2 = [\"classifier.0.weight\",\n",
    "                        \"classifier.0.bias\", \"classifier.3.weight\", \"classifier.3.bias\"]\n",
    "update_param_names_3 = [\"classifier.6.weight\", \"classifier.6.bias\"]\n",
    "\n",
    "## 파라미터를 각각 리스트에 저장\n",
    "for name, param in net.named_parameters():\n",
    "    if update_param_names_1[0] in name:\n",
    "        param.requires_grad = True\n",
    "        params_to_update_1.append(param)\n",
    "        print(\"params_to_update_1에 저장: \", name)\n",
    "\n",
    "    elif name in update_param_names_2:\n",
    "        param.requires_grad = True\n",
    "        params_to_update_2.append(param)\n",
    "        print(\"params_to_update_2에 저장: \", name)\n",
    "\n",
    "    elif name in update_param_names_3:\n",
    "        param.requires_grad = True\n",
    "        params_to_update_3.append(param)\n",
    "        print(\"params_to_update_3에 저장: \", name)\n",
    "\n",
    "    else:\n",
    "        param.requires_grad = False\n",
    "        print(\"경사 계산없음. 학습하지 않음: \", name)"
   ]
  },
  {
   "cell_type": "code",
   "execution_count": 41,
   "metadata": {},
   "outputs": [],
   "source": [
    "# # fine tuning 으로 학습할 파라미터를 변수에 저장하기 \n",
    "# # \n",
    "# params_to_update_1 = []\n",
    "# params_to_update_2 = []\n",
    "# params_to_update_3 = []\n",
    "\n",
    "# # 학습시킬 층의 파라미터명을 지정\n",
    "# update_param_names_1 = ['features']\n",
    "# update_param_names_2 = ['classifier.0.weight',\n",
    "#                         'classifier.0.bias', 'classifier.3.weight', 'classifier.3.bias']\n",
    "# update_param_names_3 = ['classifier.6.weight', 'classifier.6.bias']\n",
    "\n",
    "# # 파라미터를 각각 리스트에 저장\n",
    "# for name, param in net.named_parameters():\n",
    "#     if update_param_names_1[0] in name:\n",
    "#         param.requires_grad = True\n",
    "#         params_to_update_1.append(param)\n",
    "#         print('parmas_to_update_1에 저장 : ', name)\n",
    "\n",
    "#     elif name in update_param_names_2:\n",
    "#         param.requires_grad = True\n",
    "#         params_to_update_2.append(param)\n",
    "#         print('params_to_update2에 저장 : ', name)\n",
    "\n",
    "#     elif name in update_param_names_3:\n",
    "#         param.requires_grad = True\n",
    "#         params_to_update_3.append(param)\n",
    "#         print('params_to_update_3에 저장 : ',name)\n",
    "\n",
    "#     else:\n",
    "#         param.requires_grad = False\n",
    "#         print('경사 계산 없음. 학습하지 않음 : ', name)"
   ]
  },
  {
   "cell_type": "markdown",
   "metadata": {},
   "source": [
    "> 지수 표기법 : https://izen8.tistory.com/902"
   ]
  },
  {
   "cell_type": "code",
   "execution_count": 42,
   "metadata": {},
   "outputs": [],
   "source": [
    "# # 각 층마다 다른 lr를 적용할 수 있다.\n",
    "# # 최적화 기법 설정\n",
    "# optimizer = optim.SGD([\n",
    "#     {'params' : params_to_update_1, 'lr': 1e-4}, # 0.0001\n",
    "#     {'params' : params_to_update_2, 'lr': 5e-4}, # 0.0005\n",
    "#     {'params' : params_to_update_3, 'lr': 1e-3} # 0.001\n",
    "    \n",
    "# ], momentum=0.9)\n"
   ]
  },
  {
   "cell_type": "code",
   "execution_count": 43,
   "metadata": {},
   "outputs": [],
   "source": [
    "## 각각 층마다 다른 lr 를 적용할 수 있다.\n",
    "\n",
    "# 최적화 기법 설정\n",
    "optimizer = optim.SGD([\n",
    "    {'params': params_to_update_1, 'lr': 1e-4},  ## 0.0001\n",
    "    {'params': params_to_update_2, 'lr': 5e-4},  ## 0.0005\n",
    "    {'params': params_to_update_3, 'lr': 1e-3}   ## 0.001\n",
    "], momentum=0.9)"
   ]
  },
  {
   "cell_type": "code",
   "execution_count": 44,
   "metadata": {},
   "outputs": [
    {
     "name": "stdout",
     "output_type": "stream",
     "text": [
      "SGD (\n",
      "Parameter Group 0\n",
      "    dampening: 0\n",
      "    lr: 0.0001\n",
      "    momentum: 0.9\n",
      "    nesterov: False\n",
      "    weight_decay: 0\n",
      "\n",
      "Parameter Group 1\n",
      "    dampening: 0\n",
      "    lr: 0.0005\n",
      "    momentum: 0.9\n",
      "    nesterov: False\n",
      "    weight_decay: 0\n",
      "\n",
      "Parameter Group 2\n",
      "    dampening: 0\n",
      "    lr: 0.001\n",
      "    momentum: 0.9\n",
      "    nesterov: False\n",
      "    weight_decay: 0\n",
      ")\n"
     ]
    }
   ],
   "source": [
    "print(optimizer)"
   ]
  },
  {
   "cell_type": "markdown",
   "metadata": {},
   "source": [
    "## 학습 및 검증 실시"
   ]
  },
  {
   "cell_type": "code",
   "execution_count": 45,
   "metadata": {},
   "outputs": [
    {
     "name": "stdout",
     "output_type": "stream",
     "text": [
      "사용 장치 :  cpu\n"
     ]
    }
   ],
   "source": [
    "device = torch.device('cuda:0' if torch.cuda.is_available() else 'cpu')\n",
    "print('사용 장치 : ', device)"
   ]
  },
  {
   "cell_type": "code",
   "execution_count": 46,
   "metadata": {},
   "outputs": [
    {
     "data": {
      "text/plain": [
       "VGG(\n",
       "  (features): Sequential(\n",
       "    (0): Conv2d(3, 64, kernel_size=(3, 3), stride=(1, 1), padding=(1, 1))\n",
       "    (1): ReLU(inplace=True)\n",
       "    (2): Conv2d(64, 64, kernel_size=(3, 3), stride=(1, 1), padding=(1, 1))\n",
       "    (3): ReLU(inplace=True)\n",
       "    (4): MaxPool2d(kernel_size=2, stride=2, padding=0, dilation=1, ceil_mode=False)\n",
       "    (5): Conv2d(64, 128, kernel_size=(3, 3), stride=(1, 1), padding=(1, 1))\n",
       "    (6): ReLU(inplace=True)\n",
       "    (7): Conv2d(128, 128, kernel_size=(3, 3), stride=(1, 1), padding=(1, 1))\n",
       "    (8): ReLU(inplace=True)\n",
       "    (9): MaxPool2d(kernel_size=2, stride=2, padding=0, dilation=1, ceil_mode=False)\n",
       "    (10): Conv2d(128, 256, kernel_size=(3, 3), stride=(1, 1), padding=(1, 1))\n",
       "    (11): ReLU(inplace=True)\n",
       "    (12): Conv2d(256, 256, kernel_size=(3, 3), stride=(1, 1), padding=(1, 1))\n",
       "    (13): ReLU(inplace=True)\n",
       "    (14): Conv2d(256, 256, kernel_size=(3, 3), stride=(1, 1), padding=(1, 1))\n",
       "    (15): ReLU(inplace=True)\n",
       "    (16): MaxPool2d(kernel_size=2, stride=2, padding=0, dilation=1, ceil_mode=False)\n",
       "    (17): Conv2d(256, 512, kernel_size=(3, 3), stride=(1, 1), padding=(1, 1))\n",
       "    (18): ReLU(inplace=True)\n",
       "    (19): Conv2d(512, 512, kernel_size=(3, 3), stride=(1, 1), padding=(1, 1))\n",
       "    (20): ReLU(inplace=True)\n",
       "    (21): Conv2d(512, 512, kernel_size=(3, 3), stride=(1, 1), padding=(1, 1))\n",
       "    (22): ReLU(inplace=True)\n",
       "    (23): MaxPool2d(kernel_size=2, stride=2, padding=0, dilation=1, ceil_mode=False)\n",
       "    (24): Conv2d(512, 512, kernel_size=(3, 3), stride=(1, 1), padding=(1, 1))\n",
       "    (25): ReLU(inplace=True)\n",
       "    (26): Conv2d(512, 512, kernel_size=(3, 3), stride=(1, 1), padding=(1, 1))\n",
       "    (27): ReLU(inplace=True)\n",
       "    (28): Conv2d(512, 512, kernel_size=(3, 3), stride=(1, 1), padding=(1, 1))\n",
       "    (29): ReLU(inplace=True)\n",
       "    (30): MaxPool2d(kernel_size=2, stride=2, padding=0, dilation=1, ceil_mode=False)\n",
       "  )\n",
       "  (avgpool): AdaptiveAvgPool2d(output_size=(7, 7))\n",
       "  (classifier): Sequential(\n",
       "    (0): Linear(in_features=25088, out_features=4096, bias=True)\n",
       "    (1): ReLU(inplace=True)\n",
       "    (2): Dropout(p=0.5, inplace=False)\n",
       "    (3): Linear(in_features=4096, out_features=4096, bias=True)\n",
       "    (4): ReLU(inplace=True)\n",
       "    (5): Dropout(p=0.5, inplace=False)\n",
       "    (6): Linear(in_features=4096, out_features=2, bias=True)\n",
       "  )\n",
       ")"
      ]
     },
     "execution_count": 46,
     "metadata": {},
     "output_type": "execute_result"
    }
   ],
   "source": [
    "net.to(device)"
   ]
  },
  {
   "cell_type": "code",
   "execution_count": 47,
   "metadata": {},
   "outputs": [],
   "source": [
    "# 모델을 학습시키는 ㅎ마수\n",
    "def train_model(net, dataloaders_dict, criterion, optimizer, num_epochs):\n",
    "\n",
    "    # 초기설정\n",
    "    # GPU가 사용가능한지 확인함\n",
    "    device = torch.device('cuda:0' if torch.cuda.is_available() else 'cpu')\n",
    "    print('사용 장치 : ', device)\n",
    "\n",
    "    # 네트워크를 직접 사용하고 있는 디바이스\n",
    "    net.to(device)\n",
    "\n",
    "    # 네트워크가 어느정도 고정됨녀 가속화\n",
    "    torch.backends.cudnn.benchmark = True\n",
    "\n",
    "    # epoch\n",
    "    for epoch in range(num_epochs):\n",
    "        print('Epoch {}/{}'.format(epoch+1, num_epochs))\n",
    "        print('-------------------------------')\n",
    "\n",
    "        # epoch 별 훈련 및 검증\n",
    "        for phase in ['train', 'val']:\n",
    "            if phase == 'train':\n",
    "                net.train() # train mode\n",
    "\n",
    "            else:\n",
    "                net.eval()\n",
    "\n",
    "            epoch_loss = 0.0\n",
    "            epoch_corrects = 0\n",
    "\n",
    "            if (epoch ==0) and(phase == 'train'):\n",
    "                continue\n",
    "\n",
    "            for inputs, labels in tqdm(dataloaders_dict[phase]):\n",
    "                inputs = inputs.to(device)\n",
    "                labels = labels.to(device)\n",
    "\n",
    "                optimizer.zero_grad()\n",
    "                \n",
    "                with torch.set_grad_enabled(phase == 'train'):\n",
    "\n",
    "                    outputs = net(inputs)\n",
    "                    loss = criterion(outputs, labels)\n",
    "                    _, preds = torch.max(outputs, 1)\n",
    "\n",
    "                    if phase == 'train':\n",
    "                        loss.backward()\n",
    "                        optimizer.step()\n",
    "\n",
    "\n",
    "                    epoch_loss += loss.item() * inputs.size(0)\n",
    "\n",
    "                    epoch_corrects += torch.sum(preds == labels.data)\n",
    "            epoch_loss = epoch_loss / len(dataloaders_dict[phase].dataset)\n",
    "            epoch_acc = epoch_corrects.double()/len(dataloaders_dict[phase].dataset)\n",
    "\n",
    "            print('{} loss : {:.4f} Acc : {:.4f}'.format(phase, epoch_loss, epoch_acc))\n"
   ]
  },
  {
   "cell_type": "code",
   "execution_count": 48,
   "metadata": {},
   "outputs": [],
   "source": [
    "# # 모델을 학습시키는 함수작성\n",
    "# def train_model(net, dataloaders_dict, criterion, oprimizer, num_epochs):\n",
    "\n",
    "#     #초기 성정\n",
    "#     #GPU가 사용 가능한지 확인\n",
    "#     device = torch.device(\"cuda:0\" if torch.cuda.is_available() else \"cpu\")\n",
    "#     print(\"사용 장치: \", device)\n",
    "\n",
    "#     # 네트워크를 GPU로\n",
    "#     net.to(device)\n",
    "\n",
    "#     # 네트워크가 어느정도 고정되면 고속화시킨다.\n",
    "#     torch.backends.cudnn.benchmark = True\n",
    "\n",
    "#     # 에폭 루프\n",
    "#     for epoch in range(num_epochs):\n",
    "#         print('Epoch {}/{}'.format(epoch+1, num_epochs))\n",
    "#         print('------------')\n",
    "\n",
    "#         # 에폭별 훈련 및 검증 루프\n",
    "#         for phase in ['train', 'val']:\n",
    "#             if phase == 'train':\n",
    "#                 net.train() # 모델을 훈련모드로\n",
    "#             else:\n",
    "#                 net.eval() # 모델을 검증모드로\n",
    "\n",
    "#             epoch_loss = 0.0 # 에폭 손실 함\n",
    "#             epoch_corrects = 0 # 에폭 정담 수\n",
    "\n",
    "#             # 학습하지 않았을 때의 검증 성능을 확인 하기위해 epoch=0의 훈련 생략\n",
    "#             if (epoch == 0) and (phase == 'train'):\n",
    "#                 continue\n",
    "\n",
    "#             # 데이터 로더에서 미니배치를 꺼내 루프\n",
    "#             for inputs, labels in tqdm(dataloaders_dict[phase]):\n",
    "#                 #GPU를 사용할 수 있다면 GPU에 데이터를 보낸다.\n",
    "#                 inputs = inputs.to(device)\n",
    "#                 labels = labels.to(device)\n",
    "\n",
    "#                 #옵티마이저 초기화\n",
    "#                 optimizer.zero.grad()\n",
    "\n",
    "#                 #순전파 계산\n",
    "#                 with torch.set_grad_enabled(phase == 'train'):\n",
    "#                     outputs = net(inputs)\n",
    "#                     loss = criterion(outputs, labels) # 손실계산\n",
    "#                     _, preds = torch.max(outputs, 1) # 라벨 예측\n",
    "\n",
    "#                 # 훈련 시에는 오차 역전파법\n",
    "#                 if phase == 'train':\n",
    "#                     loss.backward()\n",
    "#                     optimizer.step()\n",
    "\n",
    "#                 #결과 계산\n",
    "#                 epoch_loss += loss.item() * inputs.size(0) # 손실의 합계 갱신\n",
    "#                 # 정답 수의 합계 갱신\n",
    "#                 epoch_corrects += torch.sum(preds == labels.data)\n",
    "#             #에폭별 손실과 정답률 표시\n",
    "#             epoch_loss = epoch_loss /len(dataloaders_dict[phase].dataset)\n",
    "#             epoch_acc  = epoch_corrects.double(\n",
    "#             ) / len(dataloaders_dict[phase].dataset)\n",
    "\n",
    "#             print('{} Loss: {:,4f} Acc: {:,4f}'.format(phase, epoch_loss, epoch_acc))"
   ]
  },
  {
   "cell_type": "code",
   "execution_count": 49,
   "metadata": {},
   "outputs": [],
   "source": [
    "# # 모델을 학습시키는 함수를 작성\n",
    "# def train_model(net, dataloaders_dict, criterion, optimizer, num_epochs):\n",
    "\n",
    "#     # 초기 설정\n",
    "#     # GPU가 사용 가능한지 확인\n",
    "#     device = torch.device(\"cuda:0\" if torch.cuda.is_available() else \"cpu\")\n",
    "#     print(\"사용 장치: \", device)\n",
    "\n",
    "#     # 네트워크를 GPU로\n",
    "#     net.to(device)\n",
    "\n",
    "#     # 네트워크가 어느 정도 고정되면, 고속화시킨다\n",
    "#     torch.backends.cudnn.benchmark = True\n",
    "\n",
    "#     # epoch 루프\n",
    "#     for epoch in range(num_epochs):\n",
    "#         print('Epoch {}/{}'.format(epoch+1, num_epochs))\n",
    "#         print('-------------')\n",
    "\n",
    "#         # epoch별 훈련 및 검증 루프\n",
    "#         for phase in ['train', 'val']:\n",
    "#             if phase == 'train':\n",
    "#                 net.train()  # 모델을 훈련 모드로\n",
    "#             else:\n",
    "#                 net.eval()   # 모델을 검증 모드로\n",
    "\n",
    "#             epoch_loss = 0.0  # epoch 손실의 합\n",
    "#             epoch_corrects = 0  # epoch 정답수\n",
    "\n",
    "#             # 미학습시의 검증 성능을 확인하기 위해 epoch=0의 훈련은 생략\n",
    "#             if (epoch == 0) and (phase == 'train'):\n",
    "#                 continue\n",
    "\n",
    "#             # 데이터 로더에서 미니 배치를 꺼내 루프\n",
    "#             for inputs, labels in tqdm(dataloaders_dict[phase]):\n",
    "\n",
    "#                 # GPU가 사용 가능하면 GPU에 데이터 보내기\n",
    "#                 inputs = inputs.to(device)\n",
    "#                 labels = labels.to(device)\n",
    "\n",
    "#                 # optimizer를 초기화\n",
    "#                 optimizer.zero_grad()\n",
    "\n",
    "#                 # 순전파(forward) 계산\n",
    "#                 with torch.set_grad_enabled(phase == 'train'):\n",
    "#                     outputs = net(inputs)\n",
    "#                     loss = criterion(outputs, labels)  # 손실 계산\n",
    "#                     _, preds = torch.max(outputs, 1)  # 라벨 예측\n",
    "\n",
    "#                     # 훈련시에는 오차 역전파법\n",
    "#                     if phase == 'train':\n",
    "#                         loss.backward()\n",
    "#                         optimizer.step()\n",
    "\n",
    "#                     # 결과 계산\n",
    "#                     epoch_loss += loss.item() * inputs.size(0)  # loss의 합계를 갱신\n",
    "#                     # 정답 수의 합계를 갱신\n",
    "#                     epoch_corrects += torch.sum(preds == labels.data)\n",
    "\n",
    "#             # epoch별 loss와 정답률을 표시\n",
    "#             epoch_loss = epoch_loss / len(dataloaders_dict[phase].dataset)\n",
    "#             epoch_acc = epoch_corrects.double(\n",
    "#             ) / len(dataloaders_dict[phase].dataset)\n",
    "\n",
    "#             print('{} Loss: {:.4f} Acc: {:.4f}'.format(\n",
    "#                 phase, epoch_loss, epoch_acc))"
   ]
  },
  {
   "cell_type": "code",
   "execution_count": 50,
   "metadata": {},
   "outputs": [
    {
     "name": "stdout",
     "output_type": "stream",
     "text": [
      "사용 장치 :  cpu\n",
      "Epoch 1/2\n",
      "-------------------------------\n"
     ]
    },
    {
     "name": "stderr",
     "output_type": "stream",
     "text": [
      " 38%|███▊      | 15/39 [33:19<51:37, 129.07s/it]  "
     ]
    }
   ],
   "source": [
    "## 학습 및 검증 실행\n",
    "num_epochs=2\n",
    "train_model(net, dataloaders_dict, criterion, optimizer, num_epochs=num_epochs)"
   ]
  },
  {
   "cell_type": "markdown",
   "metadata": {},
   "source": [
    "- 계속된 에러 해결책 : https://mingchin.tistory.com/419\n",
    "- batch_size 문제"
   ]
  },
  {
   "cell_type": "code",
   "execution_count": null,
   "metadata": {},
   "outputs": [],
   "source": [
    "##"
   ]
  }
 ],
 "metadata": {
  "kernelspec": {
   "display_name": "Python 3.6.13 ('pytorch')",
   "language": "python",
   "name": "python3"
  },
  "language_info": {
   "codemirror_mode": {
    "name": "ipython",
    "version": 3
   },
   "file_extension": ".py",
   "mimetype": "text/x-python",
   "name": "python",
   "nbconvert_exporter": "python",
   "pygments_lexer": "ipython3",
   "version": "3.6.13"
  },
  "orig_nbformat": 4,
  "vscode": {
   "interpreter": {
    "hash": "c76801ef4636d259bef71178ff9b6783756e10e36adbdb1b3ea353d89da04bd9"
   }
  }
 },
 "nbformat": 4,
 "nbformat_minor": 2
}
